{
 "cells": [
  {
   "cell_type": "markdown",
   "metadata": {},
   "source": [
    "# What drives the price of a car?\n",
    "\n",
    "![](images/kurt.jpeg)"
   ]
  },
  {
   "cell_type": "markdown",
   "metadata": {},
   "source": [
    "**OVERVIEW**\n",
    "\n",
    "In this application, you will explore a dataset from Kaggle. The original dataset contained information on 3 million used cars. The provided dataset contains information on 426K cars to ensure speed of processing.  Your goal is to understand what factors make a car more or less expensive.  As a result of your analysis, you should provide clear recommendations to your client -- a used car dealership -- as to what consumers value in a used car."
   ]
  },
  {
   "cell_type": "markdown",
   "metadata": {},
   "source": [
    "### CRISP-DM Framework\n",
    "\n",
    "<center>\n",
    "    <img src = images/crisp.png width = 50%/>\n",
    "</center>\n",
    "\n",
    "\n",
    "To frame the task, throughout our practical applications, we will refer back to a standard process in industry for data projects called CRISP-DM.  This process provides a framework for working through a data problem.  Your first step in this application will be to read through a brief overview of CRISP-DM [here](https://mo-pcco.s3.us-east-1.amazonaws.com/BH-PCMLAI/module_11/readings_starter.zip).  After reading the overview, answer the questions below."
   ]
  },
  {
   "cell_type": "markdown",
   "metadata": {},
   "source": [
    "### Business Understanding\n",
    "\n",
    "From a business perspective, we are tasked with identifying key drivers for used car prices.  In the CRISP-DM overview, we are asked to convert this business framing to a data problem definition.  Using a few sentences, reframe the task as a data task with the appropriate technical vocabulary. "
   ]
  },
  {
   "cell_type": "markdown",
   "metadata": {},
   "source": [
    "> As a used car dealership, it is important to us to understand what an appropriate market price is for the cars we sell. This dataset contains a large number of used cars with various details about them and how much they sold for. Using this large dataset, we can construct a theoretical model of how much each of these different details contributes to the market value of a car. This model can then, hopefully, be used to predict with decent precision the expected value of other cars that are not in the dataset and have not been sold yet. In doing so, the prices we set can be as attuned as possible to the details of the market, maximizing business profits."
   ]
  },
  {
   "cell_type": "markdown",
   "metadata": {},
   "source": [
    "### Data Understanding\n",
    "\n",
    "After considering the business understanding, we want to get familiar with our data.  Write down some steps that you would take to get to know the dataset and identify any quality issues within.  Take time to get to know the dataset and explore what information it contains and how this could be used to inform your business understanding."
   ]
  },
  {
   "cell_type": "code",
   "execution_count": 1,
   "metadata": {},
   "outputs": [],
   "source": [
    "import pandas as pd\n",
    "import numpy as np"
   ]
  },
  {
   "cell_type": "code",
   "execution_count": 2,
   "metadata": {},
   "outputs": [],
   "source": [
    "vehicles = pd.read_csv('data/vehicles.csv')"
   ]
  },
  {
   "cell_type": "code",
   "execution_count": 3,
   "metadata": {},
   "outputs": [
    {
     "name": "stdout",
     "output_type": "stream",
     "text": [
      "<class 'pandas.core.frame.DataFrame'>\n",
      "RangeIndex: 426880 entries, 0 to 426879\n",
      "Data columns (total 18 columns):\n",
      " #   Column        Non-Null Count   Dtype  \n",
      "---  ------        --------------   -----  \n",
      " 0   id            426880 non-null  int64  \n",
      " 1   region        426880 non-null  object \n",
      " 2   price         426880 non-null  int64  \n",
      " 3   year          425675 non-null  float64\n",
      " 4   manufacturer  409234 non-null  object \n",
      " 5   model         421603 non-null  object \n",
      " 6   condition     252776 non-null  object \n",
      " 7   cylinders     249202 non-null  object \n",
      " 8   fuel          423867 non-null  object \n",
      " 9   odometer      422480 non-null  float64\n",
      " 10  title_status  418638 non-null  object \n",
      " 11  transmission  424324 non-null  object \n",
      " 12  VIN           265838 non-null  object \n",
      " 13  drive         296313 non-null  object \n",
      " 14  size          120519 non-null  object \n",
      " 15  type          334022 non-null  object \n",
      " 16  paint_color   296677 non-null  object \n",
      " 17  state         426880 non-null  object \n",
      "dtypes: float64(2), int64(2), object(14)\n",
      "memory usage: 58.6+ MB\n"
     ]
    }
   ],
   "source": [
    "vehicles.info()"
   ]
  },
  {
   "cell_type": "code",
   "execution_count": 4,
   "metadata": {},
   "outputs": [
    {
     "data": {
      "text/plain": [
       "array([nan, 'good', 'excellent', 'fair', 'like new', 'new', 'salvage'],\n",
       "      dtype=object)"
      ]
     },
     "execution_count": 4,
     "metadata": {},
     "output_type": "execute_result"
    }
   ],
   "source": [
    "vehicles.condition.unique()"
   ]
  },
  {
   "cell_type": "markdown",
   "metadata": {},
   "source": [
    "### Data Preparation\n",
    "\n",
    "After our initial exploration and fine-tuning of the business understanding, it is time to construct our final dataset prior to modeling.  Here, we want to make sure to handle any integrity issues and cleaning, the engineering of new features, any transformations that we believe should happen (scaling, logarithms, normalization, etc.), and general preparation for modeling with `sklearn`. "
   ]
  },
  {
   "cell_type": "code",
   "execution_count": 5,
   "metadata": {},
   "outputs": [
    {
     "name": "stdout",
     "output_type": "stream",
     "text": [
      "<class 'pandas.core.frame.DataFrame'>\n",
      "RangeIndex: 426880 entries, 0 to 426879\n",
      "Data columns (total 18 columns):\n",
      " #   Column        Non-Null Count   Dtype  \n",
      "---  ------        --------------   -----  \n",
      " 0   id            426880 non-null  int64  \n",
      " 1   region        426880 non-null  object \n",
      " 2   price         426880 non-null  int64  \n",
      " 3   year          425675 non-null  float64\n",
      " 4   manufacturer  409234 non-null  object \n",
      " 5   model         421603 non-null  object \n",
      " 6   condition     252776 non-null  object \n",
      " 7   cylinders     249202 non-null  object \n",
      " 8   fuel          423867 non-null  object \n",
      " 9   odometer      422480 non-null  float64\n",
      " 10  title_status  418638 non-null  object \n",
      " 11  transmission  424324 non-null  object \n",
      " 12  VIN           265838 non-null  object \n",
      " 13  drive         296313 non-null  object \n",
      " 14  size          120519 non-null  object \n",
      " 15  type          334022 non-null  object \n",
      " 16  paint_color   296677 non-null  object \n",
      " 17  state         426880 non-null  object \n",
      "dtypes: float64(2), int64(2), object(14)\n",
      "memory usage: 58.6+ MB\n"
     ]
    }
   ],
   "source": [
    "vehicles.info()"
   ]
  },
  {
   "cell_type": "code",
   "execution_count": 6,
   "metadata": {},
   "outputs": [],
   "source": [
    "vehicles1 = vehicles.drop(['id','VIN'], axis='columns')"
   ]
  },
  {
   "cell_type": "code",
   "execution_count": 7,
   "metadata": {},
   "outputs": [],
   "source": [
    "vehicles2 = vehicles1.dropna(subset=['manufacturer', 'condition', 'cylinders', 'fuel', 'odometer', 'title_status', 'transmission', 'type'])"
   ]
  },
  {
   "cell_type": "code",
   "execution_count": 8,
   "metadata": {},
   "outputs": [
    {
     "name": "stdout",
     "output_type": "stream",
     "text": [
      "<class 'pandas.core.frame.DataFrame'>\n",
      "Index: 148382 entries, 27 to 426878\n",
      "Data columns (total 16 columns):\n",
      " #   Column        Non-Null Count   Dtype  \n",
      "---  ------        --------------   -----  \n",
      " 0   region        148382 non-null  object \n",
      " 1   price         148382 non-null  int64  \n",
      " 2   year          148382 non-null  float64\n",
      " 3   manufacturer  148382 non-null  object \n",
      " 4   model         147025 non-null  object \n",
      " 5   condition     148382 non-null  object \n",
      " 6   cylinders     148382 non-null  object \n",
      " 7   fuel          148382 non-null  object \n",
      " 8   odometer      148382 non-null  float64\n",
      " 9   title_status  148382 non-null  object \n",
      " 10  transmission  148382 non-null  object \n",
      " 11  drive         128501 non-null  object \n",
      " 12  size          85753 non-null   object \n",
      " 13  type          148382 non-null  object \n",
      " 14  paint_color   131767 non-null  object \n",
      " 15  state         148382 non-null  object \n",
      "dtypes: float64(2), int64(1), object(13)\n",
      "memory usage: 19.2+ MB\n"
     ]
    }
   ],
   "source": [
    "vehicles2.info()"
   ]
  },
  {
   "cell_type": "code",
   "execution_count": 17,
   "metadata": {},
   "outputs": [],
   "source": [
    "vehicles3 = vehicles2.drop(['drive', 'size', 'paint_color'], axis='columns')"
   ]
  },
  {
   "cell_type": "code",
   "execution_count": 12,
   "metadata": {},
   "outputs": [
    {
     "name": "stdout",
     "output_type": "stream",
     "text": [
      "<class 'pandas.core.frame.DataFrame'>\n",
      "Index: 148382 entries, 27 to 426878\n",
      "Data columns (total 12 columns):\n",
      " #   Column        Non-Null Count   Dtype  \n",
      "---  ------        --------------   -----  \n",
      " 0   region        148382 non-null  object \n",
      " 1   price         148382 non-null  int64  \n",
      " 2   year          148382 non-null  float64\n",
      " 3   manufacturer  148382 non-null  object \n",
      " 4   condition     148382 non-null  object \n",
      " 5   cylinders     148382 non-null  object \n",
      " 6   fuel          148382 non-null  object \n",
      " 7   odometer      148382 non-null  float64\n",
      " 8   title_status  148382 non-null  object \n",
      " 9   transmission  148382 non-null  object \n",
      " 10  type          148382 non-null  object \n",
      " 11  state         148382 non-null  object \n",
      "dtypes: float64(2), int64(1), object(9)\n",
      "memory usage: 14.7+ MB\n"
     ]
    }
   ],
   "source": [
    "vehicles3.info()"
   ]
  },
  {
   "cell_type": "code",
   "execution_count": 18,
   "metadata": {},
   "outputs": [
    {
     "data": {
      "text/plain": [
       "region            404\n",
       "price            6115\n",
       "year              104\n",
       "manufacturer       42\n",
       "model           12972\n",
       "condition           6\n",
       "cylinders           8\n",
       "fuel                5\n",
       "odometer        44813\n",
       "title_status        6\n",
       "transmission        3\n",
       "type               13\n",
       "state              51\n",
       "dtype: int64"
      ]
     },
     "execution_count": 18,
     "metadata": {},
     "output_type": "execute_result"
    }
   ],
   "source": [
    "vehicles3.nunique()"
   ]
  },
  {
   "cell_type": "code",
   "execution_count": 25,
   "metadata": {},
   "outputs": [
    {
     "data": {
      "text/plain": [
       "type\n",
       "sedan          38759\n",
       "SUV            34346\n",
       "pickup         19704\n",
       "truck          17647\n",
       "coupe          10065\n",
       "other           7072\n",
       "hatchback       5243\n",
       "van             4081\n",
       "convertible     4061\n",
       "wagon           3412\n",
       "mini-van        3235\n",
       "offroad          541\n",
       "bus              216\n",
       "Name: count, dtype: int64"
      ]
     },
     "execution_count": 25,
     "metadata": {},
     "output_type": "execute_result"
    }
   ],
   "source": [
    "vehicles3.type.value_counts()"
   ]
  },
  {
   "cell_type": "markdown",
   "metadata": {},
   "source": [
    "There are two many different values of the 'model' column to use in linear regression. Instead, we will use the other features (especially type, which is a reasonable but much more workable substitute)"
   ]
  },
  {
   "cell_type": "code",
   "execution_count": 19,
   "metadata": {},
   "outputs": [],
   "source": [
    "vehicles4 = vehicles3.drop('type', axis='columns')"
   ]
  },
  {
   "cell_type": "code",
   "execution_count": 20,
   "metadata": {},
   "outputs": [
    {
     "name": "stdout",
     "output_type": "stream",
     "text": [
      "<class 'pandas.core.frame.DataFrame'>\n",
      "Index: 148382 entries, 27 to 426878\n",
      "Data columns (total 12 columns):\n",
      " #   Column        Non-Null Count   Dtype  \n",
      "---  ------        --------------   -----  \n",
      " 0   region        148382 non-null  object \n",
      " 1   price         148382 non-null  int64  \n",
      " 2   year          148382 non-null  float64\n",
      " 3   manufacturer  148382 non-null  object \n",
      " 4   model         147025 non-null  object \n",
      " 5   condition     148382 non-null  object \n",
      " 6   cylinders     148382 non-null  object \n",
      " 7   fuel          148382 non-null  object \n",
      " 8   odometer      148382 non-null  float64\n",
      " 9   title_status  148382 non-null  object \n",
      " 10  transmission  148382 non-null  object \n",
      " 11  state         148382 non-null  object \n",
      "dtypes: float64(2), int64(1), object(9)\n",
      "memory usage: 14.7+ MB\n"
     ]
    }
   ],
   "source": [
    "vehicles4.info()"
   ]
  },
  {
   "cell_type": "code",
   "execution_count": 22,
   "metadata": {},
   "outputs": [
    {
     "data": {
      "text/plain": [
       "cylinders\n",
       "6 cylinders     59502\n",
       "8 cylinders     43271\n",
       "4 cylinders     42813\n",
       "5 cylinders      1032\n",
       "10 cylinders      946\n",
       "other             445\n",
       "3 cylinders       299\n",
       "12 cylinders       74\n",
       "Name: count, dtype: int64"
      ]
     },
     "execution_count": 22,
     "metadata": {},
     "output_type": "execute_result"
    }
   ],
   "source": [
    "vehicles4.cylinders.value_counts()"
   ]
  },
  {
   "cell_type": "code",
   "execution_count": 23,
   "metadata": {},
   "outputs": [],
   "source": [
    "vehicles5 = vehicles4.query('cylinders != \"other\"')"
   ]
  },
  {
   "cell_type": "code",
   "execution_count": 24,
   "metadata": {},
   "outputs": [
    {
     "name": "stdout",
     "output_type": "stream",
     "text": [
      "<class 'pandas.core.frame.DataFrame'>\n",
      "Index: 147937 entries, 27 to 426878\n",
      "Data columns (total 12 columns):\n",
      " #   Column        Non-Null Count   Dtype  \n",
      "---  ------        --------------   -----  \n",
      " 0   region        147937 non-null  object \n",
      " 1   price         147937 non-null  int64  \n",
      " 2   year          147937 non-null  float64\n",
      " 3   manufacturer  147937 non-null  object \n",
      " 4   model         146602 non-null  object \n",
      " 5   condition     147937 non-null  object \n",
      " 6   cylinders     147937 non-null  object \n",
      " 7   fuel          147937 non-null  object \n",
      " 8   odometer      147937 non-null  float64\n",
      " 9   title_status  147937 non-null  object \n",
      " 10  transmission  147937 non-null  object \n",
      " 11  state         147937 non-null  object \n",
      "dtypes: float64(2), int64(1), object(9)\n",
      "memory usage: 14.7+ MB\n"
     ]
    }
   ],
   "source": [
    "vehicles5.info()"
   ]
  },
  {
   "cell_type": "markdown",
   "metadata": {},
   "source": [
    "Below, we do some string manipulation to convert the cylinders column to an integer value, and then convert the data type of the column to int."
   ]
  },
  {
   "cell_type": "code",
   "execution_count": 95,
   "metadata": {},
   "outputs": [
    {
     "name": "stdout",
     "output_type": "stream",
     "text": [
      "<class 'pandas.core.frame.DataFrame'>\n",
      "Index: 147937 entries, 27 to 426878\n",
      "Data columns (total 12 columns):\n",
      " #   Column        Non-Null Count   Dtype  \n",
      "---  ------        --------------   -----  \n",
      " 0   region        147937 non-null  object \n",
      " 1   price         147937 non-null  int64  \n",
      " 2   year          147937 non-null  float64\n",
      " 3   manufacturer  147937 non-null  object \n",
      " 4   condition     147937 non-null  object \n",
      " 5   cylinders     147937 non-null  int64  \n",
      " 6   fuel          147937 non-null  object \n",
      " 7   odometer      147937 non-null  float64\n",
      " 8   title_status  147937 non-null  object \n",
      " 9   transmission  147937 non-null  object \n",
      " 10  type          147937 non-null  object \n",
      " 11  state         147937 non-null  object \n",
      "dtypes: float64(2), int64(2), object(8)\n",
      "memory usage: 14.7+ MB\n"
     ]
    }
   ],
   "source": [
    "pd.options.mode.copy_on_write = True\n",
    "vehicles5 = vehicles4\n",
    "vehicles5['cylinders'] = pd.to_numeric(vehicles5['cylinders'].str.replace(' cylinders',''))\n",
    "vehicles5.info()"
   ]
  },
  {
   "cell_type": "code",
   "execution_count": 27,
   "metadata": {},
   "outputs": [
    {
     "data": {
      "text/plain": [
       "region            404\n",
       "price            6103\n",
       "year              104\n",
       "manufacturer       42\n",
       "model           12902\n",
       "condition           6\n",
       "cylinders           7\n",
       "fuel                5\n",
       "odometer        44687\n",
       "title_status        6\n",
       "transmission        3\n",
       "state              51\n",
       "dtype: int64"
      ]
     },
     "execution_count": 27,
     "metadata": {},
     "output_type": "execute_result"
    }
   ],
   "source": [
    "vehicles5.nunique()"
   ]
  },
  {
   "cell_type": "code",
   "execution_count": 30,
   "metadata": {
    "scrolled": true
   },
   "outputs": [
    {
     "name": "stdout",
     "output_type": "stream",
     "text": [
      "manufacturer\n",
      "ford               24707\n",
      "chevrolet          21896\n",
      "toyota             12941\n",
      "honda               8200\n",
      "nissan              7422\n",
      "gmc                 6982\n",
      "jeep                6912\n",
      "ram                 5923\n",
      "dodge               5204\n",
      "bmw                 4287\n",
      "mercedes-benz       3996\n",
      "lexus               3321\n",
      "hyundai             3272\n",
      "subaru              3186\n",
      "volkswagen          2973\n",
      "chrysler            2606\n",
      "audi                2544\n",
      "kia                 2467\n",
      "acura               2386\n",
      "infiniti            2378\n",
      "cadillac            2303\n",
      "buick               2098\n",
      "lincoln             1622\n",
      "mazda               1608\n",
      "pontiac             1043\n",
      "mitsubishi           999\n",
      "volvo                940\n",
      "mini                 647\n",
      "mercury              624\n",
      "rover                617\n",
      "jaguar               495\n",
      "saturn               486\n",
      "porsche              485\n",
      "fiat                 195\n",
      "alfa-romeo            53\n",
      "harley-davidson       37\n",
      "ferrari               34\n",
      "datsun                27\n",
      "land rover             8\n",
      "tesla                  6\n",
      "aston-martin           6\n",
      "morgan                 1\n",
      "Name: count, dtype: int64\n",
      "\n",
      "---\n",
      "\n",
      "condition\n",
      "good         64903\n",
      "excellent    62894\n",
      "like new     14716\n",
      "fair          4379\n",
      "new            689\n",
      "salvage        356\n",
      "Name: count, dtype: int64\n",
      "\n",
      "---\n",
      "\n",
      "cylinders\n",
      "6 cylinders     59502\n",
      "8 cylinders     43271\n",
      "4 cylinders     42813\n",
      "5 cylinders      1032\n",
      "10 cylinders      946\n",
      "3 cylinders       299\n",
      "12 cylinders       74\n",
      "Name: count, dtype: int64\n",
      "\n",
      "---\n",
      "\n",
      "fuel\n",
      "gas         135461\n",
      "diesel        7224\n",
      "other         3525\n",
      "hybrid        1628\n",
      "electric        99\n",
      "Name: count, dtype: int64\n",
      "\n",
      "---\n",
      "\n",
      "title_status\n",
      "clean         141004\n",
      "rebuilt         3962\n",
      "salvage         1695\n",
      "lien             932\n",
      "missing          277\n",
      "parts only        67\n",
      "Name: count, dtype: int64\n",
      "\n",
      "---\n",
      "\n",
      "transmission\n",
      "automatic    114753\n",
      "other         23584\n",
      "manual         9600\n",
      "Name: count, dtype: int64\n",
      "\n",
      "---\n",
      "\n",
      "state\n",
      "ca    18136\n",
      "fl    10471\n",
      "ny     8248\n",
      "tx     7362\n",
      "oh     6905\n",
      "nc     5750\n",
      "mi     5321\n",
      "pa     5315\n",
      "wi     4875\n",
      "ia     3857\n",
      "tn     3713\n",
      "va     3711\n",
      "or     3488\n",
      "nj     3454\n",
      "ma     3446\n",
      "il     3332\n",
      "az     3175\n",
      "mn     3077\n",
      "co     2865\n",
      "ok     2714\n",
      "in     2680\n",
      "ks     2453\n",
      "sc     2407\n",
      "ga     2386\n",
      "wa     2332\n",
      "id     2096\n",
      "ct     2023\n",
      "ky     1866\n",
      "al     1782\n",
      "mo     1612\n",
      "nm     1491\n",
      "vt     1443\n",
      "md     1431\n",
      "mt     1325\n",
      "ar     1249\n",
      "ri     1010\n",
      "nv      989\n",
      "ak      967\n",
      "dc      932\n",
      "nh      929\n",
      "me      904\n",
      "la      881\n",
      "hi      702\n",
      "sd      444\n",
      "de      421\n",
      "ms      421\n",
      "wv      383\n",
      "ne      364\n",
      "ut      331\n",
      "nd      239\n",
      "wy      229\n",
      "Name: count, dtype: int64\n",
      "\n",
      "---\n",
      "\n"
     ]
    }
   ],
   "source": [
    "for column in ['manufacturer', 'condition', 'cylinders', 'fuel', 'title_status', 'transmission', 'state']:\n",
    "    print(vehicles5[column].value_counts())\n",
    "    print('\\n---\\n')"
   ]
  },
  {
   "cell_type": "code",
   "execution_count": 32,
   "metadata": {},
   "outputs": [
    {
     "data": {
      "text/html": [
       "<div>\n",
       "<style scoped>\n",
       "    .dataframe tbody tr th:only-of-type {\n",
       "        vertical-align: middle;\n",
       "    }\n",
       "\n",
       "    .dataframe tbody tr th {\n",
       "        vertical-align: top;\n",
       "    }\n",
       "\n",
       "    .dataframe thead th {\n",
       "        text-align: right;\n",
       "    }\n",
       "</style>\n",
       "<table border=\"1\" class=\"dataframe\">\n",
       "  <thead>\n",
       "    <tr style=\"text-align: right;\">\n",
       "      <th></th>\n",
       "      <th>id</th>\n",
       "      <th>region</th>\n",
       "      <th>price</th>\n",
       "      <th>year</th>\n",
       "      <th>manufacturer</th>\n",
       "      <th>model</th>\n",
       "      <th>condition</th>\n",
       "      <th>cylinders</th>\n",
       "      <th>fuel</th>\n",
       "      <th>odometer</th>\n",
       "      <th>title_status</th>\n",
       "      <th>transmission</th>\n",
       "      <th>VIN</th>\n",
       "      <th>drive</th>\n",
       "      <th>size</th>\n",
       "      <th>type</th>\n",
       "      <th>paint_color</th>\n",
       "      <th>state</th>\n",
       "    </tr>\n",
       "  </thead>\n",
       "  <tbody>\n",
       "    <tr>\n",
       "      <th>1008</th>\n",
       "      <td>7309692127</td>\n",
       "      <td>birmingham</td>\n",
       "      <td>29890</td>\n",
       "      <td>2013.0</td>\n",
       "      <td>tesla</td>\n",
       "      <td>model s</td>\n",
       "      <td>NaN</td>\n",
       "      <td>NaN</td>\n",
       "      <td>electric</td>\n",
       "      <td>61591.0</td>\n",
       "      <td>clean</td>\n",
       "      <td>automatic</td>\n",
       "      <td>5YJSA1DN4DFP11483</td>\n",
       "      <td>rwd</td>\n",
       "      <td>NaN</td>\n",
       "      <td>sedan</td>\n",
       "      <td>grey</td>\n",
       "      <td>al</td>\n",
       "    </tr>\n",
       "    <tr>\n",
       "      <th>1333</th>\n",
       "      <td>7306565136</td>\n",
       "      <td>birmingham</td>\n",
       "      <td>32990</td>\n",
       "      <td>2013.0</td>\n",
       "      <td>tesla</td>\n",
       "      <td>model s</td>\n",
       "      <td>NaN</td>\n",
       "      <td>NaN</td>\n",
       "      <td>electric</td>\n",
       "      <td>69961.0</td>\n",
       "      <td>clean</td>\n",
       "      <td>automatic</td>\n",
       "      <td>5YJSA1CP3DFP25751</td>\n",
       "      <td>rwd</td>\n",
       "      <td>NaN</td>\n",
       "      <td>sedan</td>\n",
       "      <td>white</td>\n",
       "      <td>al</td>\n",
       "    </tr>\n",
       "    <tr>\n",
       "      <th>1357</th>\n",
       "      <td>7306134436</td>\n",
       "      <td>birmingham</td>\n",
       "      <td>38750</td>\n",
       "      <td>2018.0</td>\n",
       "      <td>tesla</td>\n",
       "      <td>model 3</td>\n",
       "      <td>NaN</td>\n",
       "      <td>NaN</td>\n",
       "      <td>electric</td>\n",
       "      <td>14452.0</td>\n",
       "      <td>clean</td>\n",
       "      <td>automatic</td>\n",
       "      <td>NaN</td>\n",
       "      <td>NaN</td>\n",
       "      <td>NaN</td>\n",
       "      <td>NaN</td>\n",
       "      <td>NaN</td>\n",
       "      <td>al</td>\n",
       "    </tr>\n",
       "    <tr>\n",
       "      <th>1806</th>\n",
       "      <td>7301654156</td>\n",
       "      <td>birmingham</td>\n",
       "      <td>29890</td>\n",
       "      <td>2013.0</td>\n",
       "      <td>tesla</td>\n",
       "      <td>model s</td>\n",
       "      <td>NaN</td>\n",
       "      <td>NaN</td>\n",
       "      <td>electric</td>\n",
       "      <td>61591.0</td>\n",
       "      <td>clean</td>\n",
       "      <td>automatic</td>\n",
       "      <td>5YJSA1DN4DFP11483</td>\n",
       "      <td>rwd</td>\n",
       "      <td>NaN</td>\n",
       "      <td>sedan</td>\n",
       "      <td>grey</td>\n",
       "      <td>al</td>\n",
       "    </tr>\n",
       "    <tr>\n",
       "      <th>2755</th>\n",
       "      <td>7314886740</td>\n",
       "      <td>huntsville / decatur</td>\n",
       "      <td>58989</td>\n",
       "      <td>2015.0</td>\n",
       "      <td>tesla</td>\n",
       "      <td>model s</td>\n",
       "      <td>NaN</td>\n",
       "      <td>NaN</td>\n",
       "      <td>electric</td>\n",
       "      <td>23906.0</td>\n",
       "      <td>clean</td>\n",
       "      <td>automatic</td>\n",
       "      <td>5YJSA1E41FF113957</td>\n",
       "      <td>NaN</td>\n",
       "      <td>NaN</td>\n",
       "      <td>sedan</td>\n",
       "      <td>red</td>\n",
       "      <td>al</td>\n",
       "    </tr>\n",
       "    <tr>\n",
       "      <th>...</th>\n",
       "      <td>...</td>\n",
       "      <td>...</td>\n",
       "      <td>...</td>\n",
       "      <td>...</td>\n",
       "      <td>...</td>\n",
       "      <td>...</td>\n",
       "      <td>...</td>\n",
       "      <td>...</td>\n",
       "      <td>...</td>\n",
       "      <td>...</td>\n",
       "      <td>...</td>\n",
       "      <td>...</td>\n",
       "      <td>...</td>\n",
       "      <td>...</td>\n",
       "      <td>...</td>\n",
       "      <td>...</td>\n",
       "      <td>...</td>\n",
       "      <td>...</td>\n",
       "    </tr>\n",
       "    <tr>\n",
       "      <th>424599</th>\n",
       "      <td>7308683318</td>\n",
       "      <td>milwaukee</td>\n",
       "      <td>49990</td>\n",
       "      <td>2020.0</td>\n",
       "      <td>tesla</td>\n",
       "      <td>model 3 long range sedan</td>\n",
       "      <td>good</td>\n",
       "      <td>NaN</td>\n",
       "      <td>electric</td>\n",
       "      <td>3996.0</td>\n",
       "      <td>clean</td>\n",
       "      <td>other</td>\n",
       "      <td>5YJ3E1EB2LF783147</td>\n",
       "      <td>NaN</td>\n",
       "      <td>NaN</td>\n",
       "      <td>sedan</td>\n",
       "      <td>white</td>\n",
       "      <td>wi</td>\n",
       "    </tr>\n",
       "    <tr>\n",
       "      <th>425311</th>\n",
       "      <td>7314872982</td>\n",
       "      <td>sheboygan</td>\n",
       "      <td>36590</td>\n",
       "      <td>2019.0</td>\n",
       "      <td>tesla</td>\n",
       "      <td>model 3 standard range</td>\n",
       "      <td>good</td>\n",
       "      <td>NaN</td>\n",
       "      <td>electric</td>\n",
       "      <td>23057.0</td>\n",
       "      <td>clean</td>\n",
       "      <td>other</td>\n",
       "      <td>5YJ3E1EA7KF483206</td>\n",
       "      <td>rwd</td>\n",
       "      <td>NaN</td>\n",
       "      <td>sedan</td>\n",
       "      <td>white</td>\n",
       "      <td>wi</td>\n",
       "    </tr>\n",
       "    <tr>\n",
       "      <th>425611</th>\n",
       "      <td>7316398604</td>\n",
       "      <td>wausau</td>\n",
       "      <td>37990</td>\n",
       "      <td>2019.0</td>\n",
       "      <td>tesla</td>\n",
       "      <td>model 3 standard range</td>\n",
       "      <td>good</td>\n",
       "      <td>NaN</td>\n",
       "      <td>electric</td>\n",
       "      <td>22544.0</td>\n",
       "      <td>clean</td>\n",
       "      <td>other</td>\n",
       "      <td>5YJ3E1EA9KF415988</td>\n",
       "      <td>rwd</td>\n",
       "      <td>NaN</td>\n",
       "      <td>sedan</td>\n",
       "      <td>white</td>\n",
       "      <td>wi</td>\n",
       "    </tr>\n",
       "    <tr>\n",
       "      <th>425747</th>\n",
       "      <td>7313463689</td>\n",
       "      <td>wausau</td>\n",
       "      <td>32990</td>\n",
       "      <td>2013.0</td>\n",
       "      <td>tesla</td>\n",
       "      <td>model s signature</td>\n",
       "      <td>good</td>\n",
       "      <td>NaN</td>\n",
       "      <td>electric</td>\n",
       "      <td>62588.0</td>\n",
       "      <td>clean</td>\n",
       "      <td>other</td>\n",
       "      <td>5YJSA1DP8DFP06269</td>\n",
       "      <td>rwd</td>\n",
       "      <td>NaN</td>\n",
       "      <td>sedan</td>\n",
       "      <td>white</td>\n",
       "      <td>wi</td>\n",
       "    </tr>\n",
       "    <tr>\n",
       "      <th>425794</th>\n",
       "      <td>7312892479</td>\n",
       "      <td>wausau</td>\n",
       "      <td>35990</td>\n",
       "      <td>2019.0</td>\n",
       "      <td>tesla</td>\n",
       "      <td>model 3 standard range</td>\n",
       "      <td>good</td>\n",
       "      <td>NaN</td>\n",
       "      <td>gas</td>\n",
       "      <td>31540.0</td>\n",
       "      <td>clean</td>\n",
       "      <td>other</td>\n",
       "      <td>5YJ3E1EA9KF310531</td>\n",
       "      <td>rwd</td>\n",
       "      <td>NaN</td>\n",
       "      <td>sedan</td>\n",
       "      <td>white</td>\n",
       "      <td>wi</td>\n",
       "    </tr>\n",
       "  </tbody>\n",
       "</table>\n",
       "<p>868 rows × 18 columns</p>\n",
       "</div>"
      ],
      "text/plain": [
       "                id                region  price    year manufacturer  \\\n",
       "1008    7309692127            birmingham  29890  2013.0        tesla   \n",
       "1333    7306565136            birmingham  32990  2013.0        tesla   \n",
       "1357    7306134436            birmingham  38750  2018.0        tesla   \n",
       "1806    7301654156            birmingham  29890  2013.0        tesla   \n",
       "2755    7314886740  huntsville / decatur  58989  2015.0        tesla   \n",
       "...            ...                   ...    ...     ...          ...   \n",
       "424599  7308683318             milwaukee  49990  2020.0        tesla   \n",
       "425311  7314872982             sheboygan  36590  2019.0        tesla   \n",
       "425611  7316398604                wausau  37990  2019.0        tesla   \n",
       "425747  7313463689                wausau  32990  2013.0        tesla   \n",
       "425794  7312892479                wausau  35990  2019.0        tesla   \n",
       "\n",
       "                           model condition cylinders      fuel  odometer  \\\n",
       "1008                     model s       NaN       NaN  electric   61591.0   \n",
       "1333                     model s       NaN       NaN  electric   69961.0   \n",
       "1357                     model 3       NaN       NaN  electric   14452.0   \n",
       "1806                     model s       NaN       NaN  electric   61591.0   \n",
       "2755                     model s       NaN       NaN  electric   23906.0   \n",
       "...                          ...       ...       ...       ...       ...   \n",
       "424599  model 3 long range sedan      good       NaN  electric    3996.0   \n",
       "425311    model 3 standard range      good       NaN  electric   23057.0   \n",
       "425611    model 3 standard range      good       NaN  electric   22544.0   \n",
       "425747         model s signature      good       NaN  electric   62588.0   \n",
       "425794    model 3 standard range      good       NaN       gas   31540.0   \n",
       "\n",
       "       title_status transmission                VIN drive size   type  \\\n",
       "1008          clean    automatic  5YJSA1DN4DFP11483   rwd  NaN  sedan   \n",
       "1333          clean    automatic  5YJSA1CP3DFP25751   rwd  NaN  sedan   \n",
       "1357          clean    automatic                NaN   NaN  NaN    NaN   \n",
       "1806          clean    automatic  5YJSA1DN4DFP11483   rwd  NaN  sedan   \n",
       "2755          clean    automatic  5YJSA1E41FF113957   NaN  NaN  sedan   \n",
       "...             ...          ...                ...   ...  ...    ...   \n",
       "424599        clean        other  5YJ3E1EB2LF783147   NaN  NaN  sedan   \n",
       "425311        clean        other  5YJ3E1EA7KF483206   rwd  NaN  sedan   \n",
       "425611        clean        other  5YJ3E1EA9KF415988   rwd  NaN  sedan   \n",
       "425747        clean        other  5YJSA1DP8DFP06269   rwd  NaN  sedan   \n",
       "425794        clean        other  5YJ3E1EA9KF310531   rwd  NaN  sedan   \n",
       "\n",
       "       paint_color state  \n",
       "1008          grey    al  \n",
       "1333         white    al  \n",
       "1357           NaN    al  \n",
       "1806          grey    al  \n",
       "2755           red    al  \n",
       "...            ...   ...  \n",
       "424599       white    wi  \n",
       "425311       white    wi  \n",
       "425611       white    wi  \n",
       "425747       white    wi  \n",
       "425794       white    wi  \n",
       "\n",
       "[868 rows x 18 columns]"
      ]
     },
     "execution_count": 32,
     "metadata": {},
     "output_type": "execute_result"
    }
   ],
   "source": [
    "vehicles.query('manufacturer == \"tesla\"')"
   ]
  },
  {
   "cell_type": "markdown",
   "metadata": {},
   "source": [
    "### Modeling\n",
    "\n",
    "With your (almost?) final dataset in hand, it is now time to build some models.  Here, you should build a number of different regression models with the price as the target.  In building your models, you should explore different parameters and be sure to cross-validate your findings."
   ]
  },
  {
   "cell_type": "code",
   "execution_count": null,
   "metadata": {},
   "outputs": [],
   "source": []
  },
  {
   "cell_type": "code",
   "execution_count": null,
   "metadata": {},
   "outputs": [],
   "source": []
  },
  {
   "cell_type": "code",
   "execution_count": null,
   "metadata": {},
   "outputs": [],
   "source": []
  },
  {
   "cell_type": "code",
   "execution_count": null,
   "metadata": {},
   "outputs": [],
   "source": []
  },
  {
   "cell_type": "markdown",
   "metadata": {},
   "source": [
    "### Evaluation\n",
    "\n",
    "With some modeling accomplished, we aim to reflect on what we identify as a high-quality model and what we are able to learn from this.  We should review our business objective and explore how well we can provide meaningful insight into drivers of used car prices.  Your goal now is to distill your findings and determine whether the earlier phases need revisitation and adjustment or if you have information of value to bring back to your client."
   ]
  },
  {
   "cell_type": "code",
   "execution_count": null,
   "metadata": {},
   "outputs": [],
   "source": []
  },
  {
   "cell_type": "code",
   "execution_count": null,
   "metadata": {},
   "outputs": [],
   "source": []
  },
  {
   "cell_type": "code",
   "execution_count": null,
   "metadata": {},
   "outputs": [],
   "source": []
  },
  {
   "cell_type": "code",
   "execution_count": null,
   "metadata": {},
   "outputs": [],
   "source": []
  },
  {
   "cell_type": "code",
   "execution_count": null,
   "metadata": {},
   "outputs": [],
   "source": []
  },
  {
   "cell_type": "code",
   "execution_count": null,
   "metadata": {},
   "outputs": [],
   "source": []
  },
  {
   "cell_type": "markdown",
   "metadata": {},
   "source": [
    "### Deployment\n",
    "\n",
    "Now that we've settled on our models and findings, it is time to deliver the information to the client.  You should organize your work as a basic report that details your primary findings.  Keep in mind that your audience is a group of used car dealers interested in fine-tuning their inventory."
   ]
  },
  {
   "cell_type": "code",
   "execution_count": null,
   "metadata": {},
   "outputs": [],
   "source": []
  },
  {
   "cell_type": "code",
   "execution_count": null,
   "metadata": {},
   "outputs": [],
   "source": []
  },
  {
   "cell_type": "code",
   "execution_count": null,
   "metadata": {},
   "outputs": [],
   "source": []
  },
  {
   "cell_type": "code",
   "execution_count": null,
   "metadata": {},
   "outputs": [],
   "source": []
  },
  {
   "cell_type": "code",
   "execution_count": null,
   "metadata": {},
   "outputs": [],
   "source": []
  },
  {
   "cell_type": "code",
   "execution_count": null,
   "metadata": {},
   "outputs": [],
   "source": []
  },
  {
   "cell_type": "code",
   "execution_count": null,
   "metadata": {},
   "outputs": [],
   "source": []
  }
 ],
 "metadata": {
  "kernelspec": {
   "display_name": "Python 3 (ipykernel)",
   "language": "python",
   "name": "python3"
  },
  "language_info": {
   "codemirror_mode": {
    "name": "ipython",
    "version": 3
   },
   "file_extension": ".py",
   "mimetype": "text/x-python",
   "name": "python",
   "nbconvert_exporter": "python",
   "pygments_lexer": "ipython3",
   "version": "3.12.9"
  },
  "widgets": {
   "application/vnd.jupyter.widget-state+json": {
    "state": {},
    "version_major": 2,
    "version_minor": 0
   }
  }
 },
 "nbformat": 4,
 "nbformat_minor": 4
}
