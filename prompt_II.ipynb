{
 "cells": [
  {
   "cell_type": "markdown",
   "metadata": {},
   "source": [
    "# What drives the price of a car?\n",
    "\n",
    "![](images/kurt.jpeg)"
   ]
  },
  {
   "cell_type": "markdown",
   "metadata": {},
   "source": [
    "**OVERVIEW**\n",
    "\n",
    "In this application, you will explore a dataset from Kaggle. The original dataset contained information on 3 million used cars. The provided dataset contains information on 426K cars to ensure speed of processing.  Your goal is to understand what factors make a car more or less expensive.  As a result of your analysis, you should provide clear recommendations to your client -- a used car dealership -- as to what consumers value in a used car."
   ]
  },
  {
   "cell_type": "markdown",
   "metadata": {},
   "source": [
    "### CRISP-DM Framework\n",
    "\n",
    "<center>\n",
    "    <img src = images/crisp.png width = 50%/>\n",
    "</center>\n",
    "\n",
    "\n",
    "To frame the task, throughout our practical applications, we will refer back to a standard process in industry for data projects called CRISP-DM.  This process provides a framework for working through a data problem.  Your first step in this application will be to read through a brief overview of CRISP-DM [here](https://mo-pcco.s3.us-east-1.amazonaws.com/BH-PCMLAI/module_11/readings_starter.zip).  After reading the overview, answer the questions below."
   ]
  },
  {
   "cell_type": "markdown",
   "metadata": {},
   "source": [
    "### Business Understanding\n",
    "\n",
    "From a business perspective, we are tasked with identifying key drivers for used car prices.  In the CRISP-DM overview, we are asked to convert this business framing to a data problem definition.  Using a few sentences, reframe the task as a data task with the appropriate technical vocabulary. "
   ]
  },
  {
   "cell_type": "markdown",
   "metadata": {},
   "source": [
    "> As a used car dealership, it is important to us to understand what an appropriate market price is for the cars we sell. This dataset contains a large number of used cars with various details about them and how much they sold for. Using this large dataset, we can construct a theoretical model of how much each of these different details contributes to the market value of a car. This model can then, hopefully, be used to predict with decent precision the expected value of other cars that are not in the dataset and have not been sold yet. In doing so, the prices we set can be as attuned as possible to the details of the market, maximizing business profits."
   ]
  },
  {
   "cell_type": "markdown",
   "metadata": {},
   "source": [
    "### Data Understanding\n",
    "\n",
    "After considering the business understanding, we want to get familiar with our data.  Write down some steps that you would take to get to know the dataset and identify any quality issues within.  Take time to get to know the dataset and explore what information it contains and how this could be used to inform your business understanding."
   ]
  },
  {
   "cell_type": "code",
   "execution_count": 1,
   "metadata": {},
   "outputs": [],
   "source": [
    "import pandas as pd\n",
    "import numpy as np"
   ]
  },
  {
   "cell_type": "code",
   "execution_count": 2,
   "metadata": {},
   "outputs": [],
   "source": [
    "vehicles = pd.read_csv('data/vehicles.csv')"
   ]
  },
  {
   "cell_type": "code",
   "execution_count": 3,
   "metadata": {},
   "outputs": [
    {
     "name": "stdout",
     "output_type": "stream",
     "text": [
      "<class 'pandas.core.frame.DataFrame'>\n",
      "RangeIndex: 426880 entries, 0 to 426879\n",
      "Data columns (total 18 columns):\n",
      " #   Column        Non-Null Count   Dtype  \n",
      "---  ------        --------------   -----  \n",
      " 0   id            426880 non-null  int64  \n",
      " 1   region        426880 non-null  object \n",
      " 2   price         426880 non-null  int64  \n",
      " 3   year          425675 non-null  float64\n",
      " 4   manufacturer  409234 non-null  object \n",
      " 5   model         421603 non-null  object \n",
      " 6   condition     252776 non-null  object \n",
      " 7   cylinders     249202 non-null  object \n",
      " 8   fuel          423867 non-null  object \n",
      " 9   odometer      422480 non-null  float64\n",
      " 10  title_status  418638 non-null  object \n",
      " 11  transmission  424324 non-null  object \n",
      " 12  VIN           265838 non-null  object \n",
      " 13  drive         296313 non-null  object \n",
      " 14  size          120519 non-null  object \n",
      " 15  type          334022 non-null  object \n",
      " 16  paint_color   296677 non-null  object \n",
      " 17  state         426880 non-null  object \n",
      "dtypes: float64(2), int64(2), object(14)\n",
      "memory usage: 58.6+ MB\n"
     ]
    }
   ],
   "source": [
    "vehicles.info()"
   ]
  },
  {
   "cell_type": "code",
   "execution_count": 4,
   "metadata": {},
   "outputs": [
    {
     "data": {
      "text/plain": [
       "array([nan, 'good', 'excellent', 'fair', 'like new', 'new', 'salvage'],\n",
       "      dtype=object)"
      ]
     },
     "execution_count": 4,
     "metadata": {},
     "output_type": "execute_result"
    }
   ],
   "source": [
    "vehicles.condition.unique()"
   ]
  },
  {
   "cell_type": "markdown",
   "metadata": {},
   "source": [
    "### Data Preparation\n",
    "\n",
    "After our initial exploration and fine-tuning of the business understanding, it is time to construct our final dataset prior to modeling.  Here, we want to make sure to handle any integrity issues and cleaning, the engineering of new features, any transformations that we believe should happen (scaling, logarithms, normalization, etc.), and general preparation for modeling with `sklearn`. "
   ]
  },
  {
   "cell_type": "code",
   "execution_count": 5,
   "metadata": {},
   "outputs": [
    {
     "name": "stdout",
     "output_type": "stream",
     "text": [
      "<class 'pandas.core.frame.DataFrame'>\n",
      "RangeIndex: 426880 entries, 0 to 426879\n",
      "Data columns (total 18 columns):\n",
      " #   Column        Non-Null Count   Dtype  \n",
      "---  ------        --------------   -----  \n",
      " 0   id            426880 non-null  int64  \n",
      " 1   region        426880 non-null  object \n",
      " 2   price         426880 non-null  int64  \n",
      " 3   year          425675 non-null  float64\n",
      " 4   manufacturer  409234 non-null  object \n",
      " 5   model         421603 non-null  object \n",
      " 6   condition     252776 non-null  object \n",
      " 7   cylinders     249202 non-null  object \n",
      " 8   fuel          423867 non-null  object \n",
      " 9   odometer      422480 non-null  float64\n",
      " 10  title_status  418638 non-null  object \n",
      " 11  transmission  424324 non-null  object \n",
      " 12  VIN           265838 non-null  object \n",
      " 13  drive         296313 non-null  object \n",
      " 14  size          120519 non-null  object \n",
      " 15  type          334022 non-null  object \n",
      " 16  paint_color   296677 non-null  object \n",
      " 17  state         426880 non-null  object \n",
      "dtypes: float64(2), int64(2), object(14)\n",
      "memory usage: 58.6+ MB\n"
     ]
    }
   ],
   "source": [
    "vehicles.info()"
   ]
  },
  {
   "cell_type": "code",
   "execution_count": 6,
   "metadata": {},
   "outputs": [
    {
     "data": {
      "text/plain": [
       "id              426880\n",
       "region             404\n",
       "price            15655\n",
       "year               114\n",
       "manufacturer        42\n",
       "model            29649\n",
       "condition            6\n",
       "cylinders            8\n",
       "fuel                 5\n",
       "odometer        104870\n",
       "title_status         6\n",
       "transmission         3\n",
       "VIN             118246\n",
       "drive                3\n",
       "size                 4\n",
       "type                13\n",
       "paint_color         12\n",
       "state               51\n",
       "dtype: int64"
      ]
     },
     "execution_count": 6,
     "metadata": {},
     "output_type": "execute_result"
    }
   ],
   "source": [
    "vehicles.nunique()"
   ]
  },
  {
   "cell_type": "code",
   "execution_count": 7,
   "metadata": {},
   "outputs": [
    {
     "data": {
      "text/plain": [
       "type\n",
       "sedan          87056\n",
       "SUV            77284\n",
       "pickup         43510\n",
       "truck          35279\n",
       "other          22110\n",
       "coupe          19204\n",
       "hatchback      16598\n",
       "wagon          10751\n",
       "van             8548\n",
       "convertible     7731\n",
       "mini-van        4825\n",
       "offroad          609\n",
       "bus              517\n",
       "Name: count, dtype: int64"
      ]
     },
     "execution_count": 7,
     "metadata": {},
     "output_type": "execute_result"
    }
   ],
   "source": [
    "vehicles.type.value_counts()"
   ]
  },
  {
   "cell_type": "markdown",
   "metadata": {},
   "source": [
    "First, we can drop the id and VIN columns as they are simply unique identifiers that tell us nothing specific about the car. Then, we notice that there are 30k different models, which is far too many to incorporate in a linear regression model, so we will drop that column as well. The 'type' column is a reasonable and much more workable substitute."
   ]
  },
  {
   "cell_type": "code",
   "execution_count": 8,
   "metadata": {},
   "outputs": [],
   "source": [
    "vehicles1 = vehicles.drop(['id', 'VIN', 'model'], axis='columns')"
   ]
  },
  {
   "cell_type": "markdown",
   "metadata": {},
   "source": [
    "Next, we notice that many of the columns are missing data. We can use the following code to print out how much data is missing from each column:"
   ]
  },
  {
   "cell_type": "code",
   "execution_count": 9,
   "metadata": {},
   "outputs": [
    {
     "data": {
      "text/plain": [
       "region               0\n",
       "price                0\n",
       "year              1205\n",
       "manufacturer     17646\n",
       "condition       174104\n",
       "cylinders       177678\n",
       "fuel              3013\n",
       "odometer          4400\n",
       "title_status      8242\n",
       "transmission      2556\n",
       "drive           130567\n",
       "size            306361\n",
       "type             92858\n",
       "paint_color     130203\n",
       "state                0\n",
       "dtype: int64"
      ]
     },
     "execution_count": 9,
     "metadata": {},
     "output_type": "execute_result"
    }
   ],
   "source": [
    "len(vehicles1) - vehicles1.count()"
   ]
  },
  {
   "cell_type": "markdown",
   "metadata": {},
   "source": [
    "For these columns that are missing data, two ideas come to mind. First, we could drop the rows that are missing data from those columns. Secondly, we could assign the missing data to an 'unknown' category for the categorical data. I am not sure which is the better approach; in the first approach, we deal with a cleaner dataset, but we also drop a lot of data.\n",
    "\n",
    "I am going to go ahead with the second approach, where we put the missing data into an 'unknown' category for the categorical data types. The only exceptions are the numerical columns 'year' and 'odometer', for which I will drop the rows which are missing that data. Fortunately, these columns are only missing a couple thousand entries in a dataset of over 400k rows."
   ]
  },
  {
   "cell_type": "code",
   "execution_count": 10,
   "metadata": {},
   "outputs": [],
   "source": [
    "vehicles2 = vehicles1.dropna(subset=['year', 'odometer'])"
   ]
  },
  {
   "cell_type": "code",
   "execution_count": 11,
   "metadata": {},
   "outputs": [
    {
     "name": "stdout",
     "output_type": "stream",
     "text": [
      "<class 'pandas.core.frame.DataFrame'>\n",
      "Index: 421344 entries, 27 to 426879\n",
      "Data columns (total 15 columns):\n",
      " #   Column        Non-Null Count   Dtype  \n",
      "---  ------        --------------   -----  \n",
      " 0   region        421344 non-null  object \n",
      " 1   price         421344 non-null  int64  \n",
      " 2   year          421344 non-null  float64\n",
      " 3   manufacturer  405077 non-null  object \n",
      " 4   condition     250851 non-null  object \n",
      " 5   cylinders     246585 non-null  object \n",
      " 6   fuel          419172 non-null  object \n",
      " 7   odometer      421344 non-null  float64\n",
      " 8   title_status  413986 non-null  object \n",
      " 9   transmission  419649 non-null  object \n",
      " 10  drive         292495 non-null  object \n",
      " 11  size          119732 non-null  object \n",
      " 12  type          329562 non-null  object \n",
      " 13  paint_color   293254 non-null  object \n",
      " 14  state         421344 non-null  object \n",
      "dtypes: float64(2), int64(1), object(12)\n",
      "memory usage: 51.4+ MB\n"
     ]
    }
   ],
   "source": [
    "vehicles2.info()"
   ]
  },
  {
   "cell_type": "code",
   "execution_count": 12,
   "metadata": {},
   "outputs": [
    {
     "data": {
      "text/plain": [
       "region               0\n",
       "price                0\n",
       "year                 0\n",
       "manufacturer     16267\n",
       "condition       170493\n",
       "cylinders       174759\n",
       "fuel              2172\n",
       "odometer             0\n",
       "title_status      7358\n",
       "transmission      1695\n",
       "drive           128849\n",
       "size            301612\n",
       "type             91782\n",
       "paint_color     128090\n",
       "state                0\n",
       "dtype: int64"
      ]
     },
     "execution_count": 12,
     "metadata": {},
     "output_type": "execute_result"
    }
   ],
   "source": [
    "len(vehicles2) - vehicles2.count()"
   ]
  },
  {
   "cell_type": "code",
   "execution_count": 13,
   "metadata": {},
   "outputs": [],
   "source": [
    "vehicles3 = vehicles2.fillna('unknown')"
   ]
  },
  {
   "cell_type": "code",
   "execution_count": 14,
   "metadata": {},
   "outputs": [
    {
     "name": "stdout",
     "output_type": "stream",
     "text": [
      "<class 'pandas.core.frame.DataFrame'>\n",
      "Index: 421344 entries, 27 to 426879\n",
      "Data columns (total 15 columns):\n",
      " #   Column        Non-Null Count   Dtype  \n",
      "---  ------        --------------   -----  \n",
      " 0   region        421344 non-null  object \n",
      " 1   price         421344 non-null  int64  \n",
      " 2   year          421344 non-null  float64\n",
      " 3   manufacturer  421344 non-null  object \n",
      " 4   condition     421344 non-null  object \n",
      " 5   cylinders     421344 non-null  object \n",
      " 6   fuel          421344 non-null  object \n",
      " 7   odometer      421344 non-null  float64\n",
      " 8   title_status  421344 non-null  object \n",
      " 9   transmission  421344 non-null  object \n",
      " 10  drive         421344 non-null  object \n",
      " 11  size          421344 non-null  object \n",
      " 12  type          421344 non-null  object \n",
      " 13  paint_color   421344 non-null  object \n",
      " 14  state         421344 non-null  object \n",
      "dtypes: float64(2), int64(1), object(12)\n",
      "memory usage: 51.4+ MB\n"
     ]
    }
   ],
   "source": [
    "vehicles3.info()"
   ]
  },
  {
   "cell_type": "code",
   "execution_count": 15,
   "metadata": {},
   "outputs": [
    {
     "data": {
      "text/plain": [
       "region          0\n",
       "price           0\n",
       "year            0\n",
       "manufacturer    0\n",
       "condition       0\n",
       "cylinders       0\n",
       "fuel            0\n",
       "odometer        0\n",
       "title_status    0\n",
       "transmission    0\n",
       "drive           0\n",
       "size            0\n",
       "type            0\n",
       "paint_color     0\n",
       "state           0\n",
       "dtype: int64"
      ]
     },
     "execution_count": 15,
     "metadata": {},
     "output_type": "execute_result"
    }
   ],
   "source": [
    "len(vehicles3) - vehicles3.count()"
   ]
  },
  {
   "cell_type": "code",
   "execution_count": 20,
   "metadata": {},
   "outputs": [
    {
     "name": "stdout",
     "output_type": "stream",
     "text": [
      "region\n",
      "columbus                   3608\n",
      "jacksonville               3522\n",
      "spokane / coeur d'alene    2985\n",
      "new hampshire              2979\n",
      "sarasota-bradenton         2975\n",
      "                           ... \n",
      "meridian                     28\n",
      "southwest MS                 14\n",
      "kansas city                  11\n",
      "fort smith, AR                9\n",
      "west virginia (old)           8\n",
      "Name: count, Length: 404, dtype: int64\n",
      "\n",
      "---\n",
      "\n",
      "manufacturer\n",
      "ford               70313\n",
      "chevrolet          54414\n",
      "toyota             33790\n",
      "honda              21026\n",
      "nissan             18818\n",
      "jeep               18814\n",
      "ram                18227\n",
      "gmc                16609\n",
      "unknown            16267\n",
      "bmw                14609\n",
      "dodge              13546\n",
      "mercedes-benz      11595\n",
      "hyundai            10223\n",
      "subaru              9422\n",
      "volkswagen          9252\n",
      "kia                 8352\n",
      "lexus               8132\n",
      "audi                7528\n",
      "cadillac            6871\n",
      "chrysler            5956\n",
      "acura               5938\n",
      "buick               5452\n",
      "mazda               5373\n",
      "infiniti            4773\n",
      "lincoln             4182\n",
      "volvo               3358\n",
      "mitsubishi          3280\n",
      "mini                2368\n",
      "pontiac             2277\n",
      "rover               2091\n",
      "jaguar              1941\n",
      "porsche             1375\n",
      "mercury             1184\n",
      "saturn              1081\n",
      "alfa-romeo           892\n",
      "tesla                866\n",
      "fiat                 790\n",
      "harley-davidson      153\n",
      "ferrari               95\n",
      "datsun                63\n",
      "aston-martin          24\n",
      "land rover            21\n",
      "morgan                 3\n",
      "Name: count, dtype: int64\n",
      "\n",
      "---\n",
      "\n",
      "condition\n",
      "unknown      170493\n",
      "good         121235\n",
      "excellent     99765\n",
      "like new      21178\n",
      "fair           6769\n",
      "new            1303\n",
      "salvage         601\n",
      "Name: count, dtype: int64\n",
      "\n",
      "---\n",
      "\n",
      "cylinders\n",
      "unknown         174759\n",
      "6 cylinders      93181\n",
      "4 cylinders      76782\n",
      "8 cylinders      71345\n",
      "5 cylinders       1700\n",
      "10 cylinders      1436\n",
      "other             1296\n",
      "3 cylinders        642\n",
      "12 cylinders       203\n",
      "Name: count, dtype: int64\n",
      "\n",
      "---\n",
      "\n",
      "fuel\n",
      "gas         351844\n",
      "other        30627\n",
      "diesel       29865\n",
      "hybrid        5146\n",
      "unknown       2172\n",
      "electric      1690\n",
      "Name: count, dtype: int64\n",
      "\n",
      "---\n",
      "\n",
      "title_status\n",
      "clean         400582\n",
      "unknown         7358\n",
      "rebuilt         7106\n",
      "salvage         3864\n",
      "lien            1422\n",
      "missing          814\n",
      "parts only       198\n",
      "Name: count, dtype: int64\n",
      "\n",
      "---\n",
      "\n",
      "transmission\n",
      "automatic    332065\n",
      "other         62655\n",
      "manual        24929\n",
      "unknown        1695\n",
      "Name: count, dtype: int64\n",
      "\n",
      "---\n",
      "\n",
      "drive\n",
      "4wd        130353\n",
      "unknown    128849\n",
      "fwd        103995\n",
      "rwd         58147\n",
      "Name: count, dtype: int64\n",
      "\n",
      "---\n",
      "\n",
      "size\n",
      "unknown        301612\n",
      "full-size       63141\n",
      "mid-size        34337\n",
      "compact         19141\n",
      "sub-compact      3113\n",
      "Name: count, dtype: int64\n",
      "\n",
      "---\n",
      "\n",
      "type\n",
      "unknown        91782\n",
      "sedan          85760\n",
      "SUV            76066\n",
      "pickup         42686\n",
      "truck          35231\n",
      "other          21698\n",
      "coupe          18986\n",
      "hatchback      16505\n",
      "wagon          10649\n",
      "van             8423\n",
      "convertible     7659\n",
      "mini-van        4773\n",
      "offroad          609\n",
      "bus              517\n",
      "Name: count, dtype: int64\n",
      "\n",
      "---\n",
      "\n",
      "paint_color\n",
      "unknown    128090\n",
      "white       78268\n",
      "black       62017\n",
      "silver      42481\n",
      "blue        30925\n",
      "red         30163\n",
      "grey        24086\n",
      "green        7295\n",
      "custom       6699\n",
      "brown        6553\n",
      "yellow       2119\n",
      "orange       1970\n",
      "purple        678\n",
      "Name: count, dtype: int64\n",
      "\n",
      "---\n",
      "\n",
      "state\n",
      "ca    49345\n",
      "fl    28117\n",
      "tx    22711\n",
      "ny    19333\n",
      "oh    17637\n",
      "mi    16860\n",
      "or    16732\n",
      "nc    14799\n",
      "pa    13626\n",
      "wa    13491\n",
      "wi    11320\n",
      "tn    11035\n",
      "co    10926\n",
      "va    10511\n",
      "il    10302\n",
      "nj     9723\n",
      "id     8938\n",
      "az     8534\n",
      "ia     8192\n",
      "ma     8123\n",
      "mn     7672\n",
      "ga     6935\n",
      "ok     6592\n",
      "sc     6264\n",
      "mt     6224\n",
      "ks     6201\n",
      "in     5702\n",
      "ct     5185\n",
      "al     4884\n",
      "md     4771\n",
      "nm     4371\n",
      "mo     4265\n",
      "ky     4145\n",
      "ar     4028\n",
      "ak     3454\n",
      "la     3177\n",
      "nv     3109\n",
      "nh     2979\n",
      "me     2966\n",
      "dc     2946\n",
      "hi     2924\n",
      "vt     2513\n",
      "ri     2320\n",
      "sd     1297\n",
      "ut     1149\n",
      "wv     1050\n",
      "ms      999\n",
      "ne      999\n",
      "de      948\n",
      "wy      610\n",
      "nd      410\n",
      "Name: count, dtype: int64\n",
      "\n",
      "---\n",
      "\n"
     ]
    }
   ],
   "source": [
    "for column in ['region', 'manufacturer', 'condition', 'cylinders', 'fuel', 'title_status', 'transmission', 'drive', 'size', 'type', 'paint_color', 'state']:\n",
    "    print(vehicles3[column].value_counts())\n",
    "    print('\\n---\\n')"
   ]
  },
  {
   "cell_type": "markdown",
   "metadata": {},
   "source": [
    "Additionally, I am going to drop the 'state' and 'region' columns, as I would imagine they are unrelated to the value of a car, and will add a bunch of complexity and noise to our model. The same could maybe be true of paint color, but we could maybe see certain colors preferred over others to a degree it would be helpful to include in our model. So, I will keep that column for now."
   ]
  },
  {
   "cell_type": "code",
   "execution_count": 21,
   "metadata": {},
   "outputs": [],
   "source": [
    "vehicles4 = vehicles3.drop(['state', 'region'], axis='columns')"
   ]
  },
  {
   "cell_type": "code",
   "execution_count": 22,
   "metadata": {},
   "outputs": [
    {
     "name": "stdout",
     "output_type": "stream",
     "text": [
      "<class 'pandas.core.frame.DataFrame'>\n",
      "Index: 421344 entries, 27 to 426879\n",
      "Data columns (total 13 columns):\n",
      " #   Column        Non-Null Count   Dtype  \n",
      "---  ------        --------------   -----  \n",
      " 0   price         421344 non-null  int64  \n",
      " 1   year          421344 non-null  float64\n",
      " 2   manufacturer  421344 non-null  object \n",
      " 3   condition     421344 non-null  object \n",
      " 4   cylinders     421344 non-null  object \n",
      " 5   fuel          421344 non-null  object \n",
      " 6   odometer      421344 non-null  float64\n",
      " 7   title_status  421344 non-null  object \n",
      " 8   transmission  421344 non-null  object \n",
      " 9   drive         421344 non-null  object \n",
      " 10  size          421344 non-null  object \n",
      " 11  type          421344 non-null  object \n",
      " 12  paint_color   421344 non-null  object \n",
      "dtypes: float64(2), int64(1), object(10)\n",
      "memory usage: 45.0+ MB\n"
     ]
    }
   ],
   "source": [
    "vehicles4.info()"
   ]
  },
  {
   "cell_type": "markdown",
   "metadata": {},
   "source": [
    "Finally, it is time to encode our categorical columns using one-hot encoding. We should also consider whether we want to create polynomial or logarithmic features of our numerical columns (price, year, and odometer) as well as considering scaling and normalization.\n",
    "\n",
    "For price, my intuition is to use a logarithmic transformation.\n",
    "\n",
    "For year, my intuition is to transform this into an age category from the present, i.e. take the current year - the values in that column.\n",
    "\n",
    "For odometer, I am not sure whether to keep as is (linear) or use a logarithmic transformation. Perhaps both?"
   ]
  },
  {
   "cell_type": "code",
   "execution_count": 27,
   "metadata": {},
   "outputs": [],
   "source": [
    "from sklearn.compose import make_column_transformer\n",
    "from sklearn.preprocessing import OneHotEncoder"
   ]
  },
  {
   "cell_type": "code",
   "execution_count": 29,
   "metadata": {},
   "outputs": [],
   "source": [
    "categorical_columns = ['manufacturer', 'condition', 'cylinders', 'fuel', 'title_status', 'transmission', 'drive', 'size', 'type', 'paint_color']\n",
    "\n",
    "column_transformer = make_column_transformer(\n",
    "    (SimpleImputer('unknown'), categorical_columns),\n",
    "    (OneHotEncoder(), categorical_columns),\n",
    "    remainder='passthrough'\n",
    ")"
   ]
  },
  {
   "cell_type": "markdown",
   "metadata": {},
   "source": [
    "### Modeling\n",
    "\n",
    "With your (almost?) final dataset in hand, it is now time to build some models.  Here, you should build a number of different regression models with the price as the target.  In building your models, you should explore different parameters and be sure to cross-validate your findings."
   ]
  },
  {
   "cell_type": "code",
   "execution_count": null,
   "metadata": {},
   "outputs": [],
   "source": []
  },
  {
   "cell_type": "code",
   "execution_count": null,
   "metadata": {},
   "outputs": [],
   "source": []
  },
  {
   "cell_type": "code",
   "execution_count": null,
   "metadata": {},
   "outputs": [],
   "source": []
  },
  {
   "cell_type": "code",
   "execution_count": null,
   "metadata": {},
   "outputs": [],
   "source": []
  },
  {
   "cell_type": "markdown",
   "metadata": {},
   "source": [
    "### Evaluation\n",
    "\n",
    "With some modeling accomplished, we aim to reflect on what we identify as a high-quality model and what we are able to learn from this.  We should review our business objective and explore how well we can provide meaningful insight into drivers of used car prices.  Your goal now is to distill your findings and determine whether the earlier phases need revisitation and adjustment or if you have information of value to bring back to your client."
   ]
  },
  {
   "cell_type": "code",
   "execution_count": null,
   "metadata": {},
   "outputs": [],
   "source": []
  },
  {
   "cell_type": "code",
   "execution_count": null,
   "metadata": {},
   "outputs": [],
   "source": []
  },
  {
   "cell_type": "code",
   "execution_count": null,
   "metadata": {},
   "outputs": [],
   "source": []
  },
  {
   "cell_type": "code",
   "execution_count": null,
   "metadata": {},
   "outputs": [],
   "source": []
  },
  {
   "cell_type": "code",
   "execution_count": null,
   "metadata": {},
   "outputs": [],
   "source": []
  },
  {
   "cell_type": "code",
   "execution_count": null,
   "metadata": {},
   "outputs": [],
   "source": []
  },
  {
   "cell_type": "markdown",
   "metadata": {},
   "source": [
    "### Deployment\n",
    "\n",
    "Now that we've settled on our models and findings, it is time to deliver the information to the client.  You should organize your work as a basic report that details your primary findings.  Keep in mind that your audience is a group of used car dealers interested in fine-tuning their inventory."
   ]
  },
  {
   "cell_type": "code",
   "execution_count": null,
   "metadata": {},
   "outputs": [],
   "source": []
  },
  {
   "cell_type": "code",
   "execution_count": null,
   "metadata": {},
   "outputs": [],
   "source": []
  },
  {
   "cell_type": "code",
   "execution_count": null,
   "metadata": {},
   "outputs": [],
   "source": []
  },
  {
   "cell_type": "code",
   "execution_count": null,
   "metadata": {},
   "outputs": [],
   "source": []
  },
  {
   "cell_type": "code",
   "execution_count": null,
   "metadata": {},
   "outputs": [],
   "source": []
  },
  {
   "cell_type": "code",
   "execution_count": null,
   "metadata": {},
   "outputs": [],
   "source": []
  },
  {
   "cell_type": "code",
   "execution_count": null,
   "metadata": {},
   "outputs": [],
   "source": []
  }
 ],
 "metadata": {
  "kernelspec": {
   "display_name": "Python 3 (ipykernel)",
   "language": "python",
   "name": "python3"
  },
  "language_info": {
   "codemirror_mode": {
    "name": "ipython",
    "version": 3
   },
   "file_extension": ".py",
   "mimetype": "text/x-python",
   "name": "python",
   "nbconvert_exporter": "python",
   "pygments_lexer": "ipython3",
   "version": "3.12.9"
  },
  "widgets": {
   "application/vnd.jupyter.widget-state+json": {
    "state": {},
    "version_major": 2,
    "version_minor": 0
   }
  }
 },
 "nbformat": 4,
 "nbformat_minor": 4
}
